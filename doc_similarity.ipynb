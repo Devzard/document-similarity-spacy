{
 "cells": [
  {
   "cell_type": "code",
   "execution_count": 9,
   "source": [
    "import spacy\r\n",
    "import numpy as np\r\n",
    "import pandas as pd"
   ],
   "outputs": [],
   "metadata": {}
  },
  {
   "cell_type": "code",
   "execution_count": 5,
   "source": [
    "nlp = spacy.load('en_core_web_sm')"
   ],
   "outputs": [],
   "metadata": {}
  },
  {
   "cell_type": "markdown",
   "source": [
    "Select rows that has no rating of 3\r\n",
    "Drop all rows that has empty 'Review Text'"
   ],
   "metadata": {}
  },
  {
   "cell_type": "code",
   "execution_count": 39,
   "source": [
    "wcr = pd.read_csv(\"./datasets/womens_clothing_E_commerce_reviews.csv\", index_col=0)\r\n",
    "wcr = wcr.loc[wcr[\"Rating\"] != 3]\r\n",
    "wcr.dropna(subset=[\"Review Text\"], inplace=True)\r\n",
    "\r\n",
    "with nlp.disable_pipes():\r\n",
    "    doc_vectors = np.array([nlp(text).vector for text in wcr[\"Review Text\"]])\r\n",
    "\r\n",
    "doc_vectors.shape\r\n"
   ],
   "outputs": [
    {
     "output_type": "execute_result",
     "data": {
      "text/plain": [
       "(19818, 96)"
      ]
     },
     "metadata": {},
     "execution_count": 39
    }
   ],
   "metadata": {}
  },
  {
   "cell_type": "code",
   "execution_count": 42,
   "source": [
    "# wcr.head()\r\n",
    "# print(doc_vectors[5:])"
   ],
   "outputs": [],
   "metadata": {}
  },
  {
   "cell_type": "markdown",
   "source": [
    "# Training a sklearn model"
   ],
   "metadata": {}
  },
  {
   "cell_type": "code",
   "execution_count": 62,
   "source": [
    "# from sklearn.model_selection import train_test_split\r\n",
    "\r\n",
    "# X_train, X_test, y_train, y_test = train_test_split(doc_vectors, wcr[\"Rating\"], random_state=1)\r\n",
    "# print(X_train[:1])"
   ],
   "outputs": [],
   "metadata": {}
  },
  {
   "cell_type": "markdown",
   "source": [
    "Use Support Vector Machine of Sklearn to train the data on"
   ],
   "metadata": {}
  },
  {
   "cell_type": "code",
   "execution_count": 63,
   "source": [
    "# from sklearn.svm import LinearSVC"
   ],
   "outputs": [],
   "metadata": {}
  },
  {
   "cell_type": "code",
   "execution_count": 64,
   "source": [
    "# svcModel = LinearSVC(random_state=1, dual=False, max_iter=10000)\r\n",
    "# svcModel.fit(X_train, y_train)\r\n",
    "\r\n",
    "# print(f\"Accuracy : {svcModel.score(X_test, y_test) * 100:.3f} %\",)"
   ],
   "outputs": [],
   "metadata": {}
  },
  {
   "cell_type": "markdown",
   "source": [
    "We'll use cosine similarity to find vectors that are close by ( similar content has similar vectors )\r\n",
    "\r\n",
    "## cos theta = (a.b) / (||a||.||b||)"
   ],
   "metadata": {}
  },
  {
   "cell_type": "code",
   "execution_count": 66,
   "source": [
    "def consine_similarity(a, b):\r\n",
    "    return a.dot(b)/np.sqrt(a.dot(a) * b.dot(b))"
   ],
   "outputs": [],
   "metadata": {}
  },
  {
   "cell_type": "code",
   "execution_count": 75,
   "source": [
    "review = \"\"\"\r\n",
    "    It was a nice dress but too expensive.\r\n",
    "\"\"\"\r\n",
    "\r\n",
    "review_vec = nlp(review).vector"
   ],
   "outputs": [],
   "metadata": {}
  },
  {
   "cell_type": "code",
   "execution_count": 71,
   "source": [
    "vec_mean = doc_vectors.mean(axis=0)\r\n",
    "centered = doc_vectors - vec_mean"
   ],
   "outputs": [],
   "metadata": {}
  },
  {
   "cell_type": "code",
   "execution_count": 76,
   "source": [
    "review_vec_mean = review_vec-vec_mean\r\n",
    "similarities = np.array([consine_similarity(review_vec_mean, vec) for vec in centered])\r\n",
    "\r\n",
    "most_similar = similarities.argmax()\r\n",
    "\r\n",
    "print(wcr.iloc[most_similar][\"Review Text\"])"
   ],
   "outputs": [
    {
     "output_type": "stream",
     "name": "stdout",
     "text": [
      "Soft and pretty, but way too big and wide. love the bell-sleeve detail. i'm exchanging for one size smaller.\n"
     ]
    }
   ],
   "metadata": {}
  },
  {
   "cell_type": "code",
   "execution_count": 65,
   "source": [
    "# review_vec_for_pred = np.array([nlp(text).vector for text in review])\r\n",
    "\r\n",
    "# svcModel.predict(review_vec_for_pred)"
   ],
   "outputs": [],
   "metadata": {}
  }
 ],
 "metadata": {
  "kernelspec": {
   "name": "python3",
   "display_name": "Python 3.9.1 64-bit ('base': conda)"
  },
  "language_info": {
   "codemirror_mode": {
    "name": "ipython",
    "version": 3
   },
   "file_extension": ".py",
   "mimetype": "text/x-python",
   "name": "python",
   "nbconvert_exporter": "python",
   "pygments_lexer": "ipython3",
   "version": "3.9.1"
  },
  "interpreter": {
   "hash": "c92433add6838504b7902b5ec78188fe4df6a7e85695bf26bd386e93bc3b1798"
  }
 },
 "nbformat": 4,
 "nbformat_minor": 5
}